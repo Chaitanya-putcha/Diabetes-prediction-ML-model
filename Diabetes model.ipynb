{
 "cells": [
  {
   "cell_type": "code",
   "execution_count": 82,
   "id": "d2929cc5",
   "metadata": {},
   "outputs": [
    {
     "name": "stdout",
     "output_type": "stream",
     "text": [
      "   Pregnancies  Glucose  BloodPressure  ...  DiabetesPedigreeFunction  Age  Outcome\n",
      "0            6      148             72  ...                     0.627   50        1\n",
      "1            1       85             66  ...                     0.351   31        0\n",
      "2            8      183             64  ...                     0.672   32        1\n",
      "3            1       89             66  ...                     0.167   21        0\n",
      "4            0      137             40  ...                     2.288   33        1\n",
      "\n",
      "[5 rows x 9 columns]\n"
     ]
    }
   ],
   "source": [
    "# Reading CSV files in PYTHON\n",
    "import pandas as pd\n",
    "\n",
    "df = pd.read_csv(\"C:\\\\Users\\\\Chaitanya Putcha\\\\Documents\\\\Internships\\\\EDL\\\\archive\\\\diabetes.csv\")\n",
    "\n",
    "import numpy as np\n",
    "\n",
    "# Columns where 0 should be treated as missing\n",
    "#cols_with_zero_as_missing = ['Glucose', 'BloodPressure', 'SkinThickness', 'Insulin', 'BMI']\n",
    "\n",
    "#df[cols_with_zero_as_missing] = df[cols_with_zero_as_missing].replace(0, np.nan)\n",
    "\n",
    "print(df.head())\n"
   ]
  },
  {
   "cell_type": "code",
   "execution_count": null,
   "id": "15cc0f38",
   "metadata": {},
   "outputs": [],
   "source": [
    "# Finding duplicate rows\n",
    "df.duplicated().sum()\n",
    "df.drop_duplicates(inplace = True)"
   ]
  },
  {
   "cell_type": "code",
   "execution_count": null,
   "id": "2737dd20",
   "metadata": {},
   "outputs": [],
   "source": [
    "# Deal with outliers\n",
    "numeric_cols = df.select_dtypes(include='number').columns\n",
    "for col in numeric_cols:\n",
    "    Q1 = df[col].quantile(0.25)\n",
    "    Q3 = df[col].quantile(0.75)\n",
    "    IQR = Q3 - Q1\n",
    "    lower = Q1 - 1.5 * IQR\n",
    "    upper = Q3 + 1.5 * IQR\n",
    "    df[col] = df[col].clip(lower=lower, upper=upper)"
   ]
  },
  {
   "cell_type": "code",
   "execution_count": null,
   "id": "a3c716de",
   "metadata": {},
   "outputs": [
    {
     "name": "stdout",
     "output_type": "stream",
     "text": [
      "[[ 0.64714967  0.86192556  0.09269135  0.91498623 -0.787602    0.20935933\n",
      "   0.58892732  1.44569096]\n",
      " [-0.84896998 -1.15943299 -0.33020145  0.536065   -0.787602   -0.78425421\n",
      "  -0.37810147 -0.189304  ]\n",
      " [ 1.24559754  1.98490253 -0.47116571 -1.29538762 -0.787602   -1.25267202\n",
      "   0.74659506 -0.10325164]\n",
      " [-0.84896998 -1.03109276 -0.33020145  0.15714377  0.2175834  -0.57133702\n",
      "  -1.02278733 -1.04982767]\n",
      " [-1.14819391  0.50898994 -2.16273688  0.91498623  1.00889957  1.55783484\n",
      "   2.59656319 -0.01719927]]\n"
     ]
    }
   ],
   "source": [
    "# Standarizing values with mean = 0 and varience = 1\n",
    "from sklearn.preprocessing import StandardScaler\n",
    "\n",
    "x = df.drop(columns=['Outcome'])\n",
    "y = df['Outcome']\n",
    "\n",
    "scaler = StandardScaler()\n",
    "x = scaler.fit_transform(x)\n",
    "print(x[:5])"
   ]
  },
  {
   "cell_type": "code",
   "execution_count": 87,
   "id": "fa3eeaac",
   "metadata": {},
   "outputs": [
    {
     "name": "stdout",
     "output_type": "stream",
     "text": [
      "Accuracy:  0.8701298701298701\n",
      "Mean Squared Error:  0.12987012987012986\n",
      "R-squared:  0.41930618401206665\n"
     ]
    },
    {
     "data": {
      "image/png": "[encoded data removed]",
      "text/plain": [
       "<Figure size 640x480 with 2 Axes>"
      ]
     },
     "metadata": {},
     "output_type": "display_data"
    }
   ],
   "source": [
    "# ...existing code...\n",
    "import matplotlib.pyplot as plt\n",
    "from sklearn.linear_model import LogisticRegression\n",
    "from sklearn.model_selection import train_test_split\n",
    "\n",
    "x_train, x_test, y_train, y_test = train_test_split(x, y, test_size=0.1, random_state=0)\n",
    "\n",
    "# Train a Random Forest model\n",
    "LRmodel = LogisticRegression(random_state=42)\n",
    "LRmodel.fit(x_train, y_train)\n",
    "\n",
    "# Predict\n",
    "y_pred = LRmodel.predict(x_test)\n",
    "\n",
    "# Evaluate\n",
    "from sklearn.metrics import accuracy_score, mean_squared_error, r2_score, confusion_matrix, ConfusionMatrixDisplay\n",
    "\n",
    "accuracy = accuracy_score(y_test, y_pred)\n",
    "print(\"Accuracy: \", accuracy)\n",
    "print(\"Mean Squared Error: \", mean_squared_error(y_test, y_pred))\n",
    "print(\"R-squared: \", r2_score(y_test, y_pred))\n",
    "\n",
    "cm = confusion_matrix(y_test, y_pred)\n",
    "disp = ConfusionMatrixDisplay(confusion_matrix=cm, display_labels=RFmodel.classes_)\n",
    "disp.plot(cmap=plt.cm.Blues)\n",
    "plt.show()\n"
   ]
  }
 ],
 "metadata": {
  "kernelspec": {
   "display_name": "Python 3",
   "language": "python",
   "name": "python3"
  },
  "language_info": {
   "codemirror_mode": {
    "name": "ipython",
    "version": 3
   },
   "file_extension": ".py",
   "mimetype": "text/x-python",
   "name": "python",
   "nbconvert_exporter": "python",
   "pygments_lexer": "ipython3",
   "version": "3.12.6"
  }
 },
 "nbformat": 4,
 "nbformat_minor": 5
}
